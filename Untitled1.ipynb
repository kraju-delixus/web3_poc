{
 "cells": [
  {
   "cell_type": "code",
   "execution_count": 1,
   "id": "24f319a8",
   "metadata": {},
   "outputs": [
    {
     "name": "stdout",
     "output_type": "stream",
     "text": [
      "True\n"
     ]
    }
   ],
   "source": [
    "from web3 import Web3\n",
    "w3 = Web3(Web3.EthereumTesterProvider())\n",
    "print(w3.isConnected())"
   ]
  },
  {
   "cell_type": "code",
   "execution_count": 2,
   "id": "ff2fdf99",
   "metadata": {},
   "outputs": [
    {
     "data": {
      "text/plain": [
       "['0x7E5F4552091A69125d5DfCb7b8C2659029395Bdf',\n",
       " '0x2B5AD5c4795c026514f8317c7a215E218DcCD6cF',\n",
       " '0x6813Eb9362372EEF6200f3b1dbC3f819671cBA69',\n",
       " '0x1efF47bc3a10a45D4B230B5d10E37751FE6AA718',\n",
       " '0xe1AB8145F7E55DC933d51a18c793F901A3A0b276',\n",
       " '0xE57bFE9F44b819898F47BF37E5AF72a0783e1141',\n",
       " '0xd41c057fd1c78805AAC12B0A94a405c0461A6FBb',\n",
       " '0xF1F6619B38A98d6De0800F1DefC0a6399eB6d30C',\n",
       " '0xF7Edc8FA1eCc32967F827C9043FcAe6ba73afA5c',\n",
       " '0x4CCeBa2d7D2B4fdcE4304d3e09a1fea9fbEb1528']"
      ]
     },
     "execution_count": 2,
     "metadata": {},
     "output_type": "execute_result"
    }
   ],
   "source": [
    "w3.eth.accounts"
   ]
  },
  {
   "cell_type": "code",
   "execution_count": 3,
   "id": "5f22ac07",
   "metadata": {},
   "outputs": [
    {
     "name": "stdout",
     "output_type": "stream",
     "text": [
      "1000000000000000000000000\n"
     ]
    }
   ],
   "source": [
    "check_sum = w3.toChecksumAddress('0x7E5F4552091A69125d5DfCb7b8C2659029395Bdf')\n",
    "balance = w3.eth.get_balance(check_sum)\n",
    "print(balance)"
   ]
  },
  {
   "cell_type": "code",
   "execution_count": 4,
   "id": "3818ab9b",
   "metadata": {},
   "outputs": [
    {
     "name": "stdout",
     "output_type": "stream",
     "text": [
      "True\n"
     ]
    }
   ],
   "source": [
    "is_address_valid = w3.isAddress('0x7E5F4552091A69125d5DfCb7b8C2659029395Bdf')\n",
    "\n",
    "print(is_address_valid)"
   ]
  },
  {
   "cell_type": "code",
   "execution_count": 5,
   "id": "3a92988b",
   "metadata": {},
   "outputs": [
    {
     "name": "stdout",
     "output_type": "stream",
     "text": [
      "1000000\n"
     ]
    },
    {
     "ename": "NameError",
     "evalue": "name 'Decimal' is not defined",
     "output_type": "error",
     "traceback": [
      "\u001b[0;31m---------------------------------------------------------------------------\u001b[0m",
      "\u001b[0;31mNameError\u001b[0m                                 Traceback (most recent call last)",
      "\u001b[0;32m<ipython-input-5-2924cfa34fb1>\u001b[0m in \u001b[0;36m<module>\u001b[0;34m\u001b[0m\n\u001b[1;32m      1\u001b[0m \u001b[0mether_value\u001b[0m  \u001b[0;34m=\u001b[0m \u001b[0mw3\u001b[0m\u001b[0;34m.\u001b[0m\u001b[0mfromWei\u001b[0m\u001b[0;34m(\u001b[0m\u001b[0mbalance\u001b[0m\u001b[0;34m,\u001b[0m \u001b[0;34m'ether'\u001b[0m\u001b[0;34m)\u001b[0m\u001b[0;34m\u001b[0m\u001b[0;34m\u001b[0m\u001b[0m\n\u001b[1;32m      2\u001b[0m \u001b[0mprint\u001b[0m\u001b[0;34m(\u001b[0m\u001b[0mether_value\u001b[0m\u001b[0;34m)\u001b[0m\u001b[0;34m\u001b[0m\u001b[0;34m\u001b[0m\u001b[0m\n\u001b[0;32m----> 3\u001b[0;31m \u001b[0mDecimal\u001b[0m\u001b[0;34m(\u001b[0m\u001b[0;34m''\u001b[0m\u001b[0;34m)\u001b[0m\u001b[0;34m\u001b[0m\u001b[0;34m\u001b[0m\u001b[0m\n\u001b[0m",
      "\u001b[0;31mNameError\u001b[0m: name 'Decimal' is not defined"
     ]
    }
   ],
   "source": [
    "ether_value  = w3.fromWei(balance, 'ether')\n",
    "print(ether_value)\n",
    "Decimal('')"
   ]
  },
  {
   "cell_type": "code",
   "execution_count": null,
   "id": "3950a7dc",
   "metadata": {},
   "outputs": [],
   "source": []
  }
 ],
 "metadata": {
  "kernelspec": {
   "display_name": "Python 3",
   "language": "python",
   "name": "python3"
  },
  "language_info": {
   "codemirror_mode": {
    "name": "ipython",
    "version": 3
   },
   "file_extension": ".py",
   "mimetype": "text/x-python",
   "name": "python",
   "nbconvert_exporter": "python",
   "pygments_lexer": "ipython3",
   "version": "3.6.9"
  }
 },
 "nbformat": 4,
 "nbformat_minor": 5
}
